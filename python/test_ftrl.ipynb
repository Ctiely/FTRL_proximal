{
 "cells": [
  {
   "cell_type": "markdown",
   "metadata": {},
   "source": [
    "# Load Modules"
   ]
  },
  {
   "cell_type": "code",
   "execution_count": 1,
   "metadata": {
    "collapsed": true
   },
   "outputs": [],
   "source": [
    "import os\n",
    "import numpy as np\n",
    "from sklearn.linear_model import LogisticRegression\n",
    "from sklearn.datasets import load_svmlight_file\n",
    "os.chdir(\"../\")\n",
    "import FTRL\n",
    "os.chdir(\"python\")"
   ]
  },
  {
   "cell_type": "markdown",
   "metadata": {},
   "source": [
    "# Model Fit"
   ]
  },
  {
   "cell_type": "code",
   "execution_count": 2,
   "metadata": {},
   "outputs": [
    {
     "name": "stdout",
     "output_type": "stream",
     "text": [
      "model fit finished.\n"
     ]
    }
   ],
   "source": [
    "model_fit = FTRL.ftrl(123)\n",
    "with open(\"../data/Traindata.ftrl\", \"r\") as f:\n",
    "    line = f.readline()\n",
    "    while 1:\n",
    "        line = f.readline()\n",
    "        if line:\n",
    "            model_fit.fit(line)\n",
    "        else:\n",
    "            print(\"model fit finished.\")\n",
    "            break\n",
    "    \n",
    "model_fit_batch = FTRL.ftrl(123)\n",
    "model_fit_batch.fit_batch(\"../data/Traindata.ftrl\")\n",
    "\n",
    "assert(model_fit.coeffs[\"intercept\"] == model_fit.coeffs[\"intercept\"])\n",
    "assert(np.all(model_fit.coeffs[\"coef\"] == model_fit.coeffs[\"coef\"]))"
   ]
  },
  {
   "cell_type": "markdown",
   "metadata": {},
   "source": [
    "# Model Predict"
   ]
  },
  {
   "cell_type": "code",
   "execution_count": 3,
   "metadata": {},
   "outputs": [
    {
     "name": "stdout",
     "output_type": "stream",
     "text": [
      "ftrl model error rate is 0.16139\n"
     ]
    }
   ],
   "source": [
    "preds_ftrl = []\n",
    "labels = []\n",
    "with open(\"../data/Testdata.ftrl\", \"r\") as f:\n",
    "    while 1:\n",
    "        line = f.readline()\n",
    "        if line:\n",
    "            labels.append(int(line[0]))\n",
    "            pred = model_fit.predict(line)\n",
    "            pred2 = model_fit_batch.predict(line)\n",
    "            assert(pred == pred2)\n",
    "            preds_ftrl.append(pred)\n",
    "        else:\n",
    "            break\n",
    "        \n",
    "error_rate_ftrl = np.sum(np.array(preds_ftrl) != np.array(labels)) / float(len(preds_ftrl))\n",
    "print(\"ftrl model error rate is {:.5f}\".format(error_rate_ftrl))"
   ]
  },
  {
   "cell_type": "markdown",
   "metadata": {},
   "source": [
    "# sklearn Logistic Regression"
   ]
  },
  {
   "cell_type": "code",
   "execution_count": 4,
   "metadata": {},
   "outputs": [
    {
     "name": "stdout",
     "output_type": "stream",
     "text": [
      "sklearn Logistic Regression error rate is 0.15735\n"
     ]
    }
   ],
   "source": [
    "x_train, y_train = load_svmlight_file(\"../data/data.ftrl\", n_features=123)\n",
    "x_test, y_test = load_svmlight_file(\"../data/Testdata.ftrl\", n_features=123)\n",
    "\n",
    "lr = LogisticRegression()\n",
    "lr.fit(x_train, y_train)\n",
    "preds_sklearn = lr.predict(x_test)\n",
    "\n",
    "error_rate_sklearn = np.sum(np.array(preds_sklearn) != np.array(labels)) / float(len(preds_sklearn))\n",
    "print(\"sklearn Logistic Regression error rate is {:.5f}\".format(error_rate_sklearn))"
   ]
  },
  {
   "cell_type": "markdown",
   "metadata": {},
   "source": [
    "# comparison between the two models"
   ]
  },
  {
   "cell_type": "code",
   "execution_count": 5,
   "metadata": {},
   "outputs": [
    {
     "name": "stdout",
     "output_type": "stream",
     "text": [
      "100 loops, best of 3: 3.59 ms per loop\n"
     ]
    }
   ],
   "source": [
    "%timeit model_fit_batch.fit_batch(\"../data/Traindata.ftrl\")"
   ]
  },
  {
   "cell_type": "code",
   "execution_count": 6,
   "metadata": {},
   "outputs": [
    {
     "name": "stdout",
     "output_type": "stream",
     "text": [
      "100 loops, best of 3: 4.44 ms per loop\n"
     ]
    }
   ],
   "source": [
    "%timeit lr.fit(x_train, y_train)"
   ]
  },
  {
   "cell_type": "code",
   "execution_count": null,
   "metadata": {
    "collapsed": true
   },
   "outputs": [],
   "source": []
  }
 ],
 "metadata": {
  "kernelspec": {
   "display_name": "Python 2",
   "language": "python",
   "name": "python2"
  },
  "language_info": {
   "codemirror_mode": {
    "name": "ipython",
    "version": 2
   },
   "file_extension": ".py",
   "mimetype": "text/x-python",
   "name": "python",
   "nbconvert_exporter": "python",
   "pygments_lexer": "ipython2",
   "version": "2.7.13"
  }
 },
 "nbformat": 4,
 "nbformat_minor": 2
}
